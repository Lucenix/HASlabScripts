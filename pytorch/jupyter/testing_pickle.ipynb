{
 "cells": [
  {
   "cell_type": "code",
   "execution_count": null,
   "metadata": {},
   "outputs": [],
   "source": [
    "import re\n",
    "import os\n",
    "import numpy as np\n",
    "import pandas as pd\n",
    "from pandas._libs.tslibs import dtypes, timestamps\n",
    "import subprocess\n",
    "from functools import reduce\n",
    "import matplotlib\n",
    "import pickle as pkl\n",
    "matplotlib.use('Qt5Agg')\n",
    "import matplotlib.pyplot as plt\n",
    "# Using matplotlib backend: QtAgg"
   ]
  },
  {
   "cell_type": "code",
   "execution_count": null,
   "metadata": {},
   "outputs": [],
   "source": [
    "global_df = pd.DataFrame()"
   ]
  },
  {
   "cell_type": "code",
   "execution_count": null,
   "metadata": {},
   "outputs": [],
   "source": [
    "def loadFile(file):\n",
    "    with open(file, \"rb\") as fd:\n",
    "        df = pkl.load(fd)\n",
    "    return df"
   ]
  },
  {
   "cell_type": "code",
   "execution_count": null,
   "metadata": {},
   "outputs": [],
   "source": [
    "file = \"../../eBPFs-tools/parser/plots/Model/vfssize/python3_n12985857_3234.JPEG.pkl\"\n",
    "\n",
    "df1 = loadFile(file)\n",
    "\n",
    "df1 = df1.transpose()\n",
    "\n",
    "df1['Name'] = [\"lmao\"]\n",
    "\n",
    "df1.head()"
   ]
  },
  {
   "cell_type": "code",
   "execution_count": null,
   "metadata": {},
   "outputs": [],
   "source": [
    "path = '/home/utilizador/Documents/HasLab/PI/HASlabScripts/eBPFs-tools/parser/plots/Model/vfssize/'\n",
    "\n",
    "l = list()\n",
    "\n",
    "for file in os.listdir(path):\n",
    "\n",
    "    filepath = os.path.join(path, file)\n",
    "\n",
    "    df = loadFile(filepath)\n",
    "    df = df.transpose()\n",
    "    df['title'] = [file]\n",
    "\n",
    "    l.append(df)"
   ]
  },
  {
   "cell_type": "code",
   "execution_count": null,
   "metadata": {},
   "outputs": [],
   "source": [
    "print(pd.concat(l, ignore_index=True).fillna(0))"
   ]
  }
 ],
 "metadata": {
  "kernelspec": {
   "display_name": "Python 3 (ipykernel)",
   "language": "python",
   "name": "python3"
  }
 },
 "nbformat": 4,
 "nbformat_minor": 4
}
