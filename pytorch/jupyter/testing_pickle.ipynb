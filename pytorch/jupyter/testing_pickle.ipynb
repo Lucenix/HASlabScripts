{
 "cells": [
  {
   "cell_type": "raw",
   "metadata": {},
   "source": [
    "---\n",
    "title: Load vfssize_interval\n",
    "---"
   ]
  },
  {
   "cell_type": "code",
   "execution_count": null,
   "metadata": {},
   "outputs": [],
   "source": [
    "import pprint\n",
    "import re\n",
    "import os\n",
    "import numpy as np\n",
    "import pandas as pd\n",
    "from pandas._libs.tslibs import dtypes, timestamps\n",
    "import subprocess\n",
    "from functools import reduce\n",
    "import matplotlib\n",
    "import pickle as pkl\n",
    "matplotlib.use('Qt5Agg')\n",
    "import matplotlib.pyplot as plt\n",
    "import re\n",
    "# Using matplotlib backend: QtAgg"
   ]
  },
  {
   "cell_type": "code",
   "execution_count": null,
   "metadata": {},
   "outputs": [],
   "source": [
    "def loadFile(file):\n",
    "    with open(file, \"rb\") as fd:\n",
    "        df = pkl.load(fd)\n",
    "    return df"
   ]
  },
  {
   "cell_type": "code",
   "execution_count": null,
   "metadata": {},
   "outputs": [],
   "source": [
    "path = '/home/utilizador/Documents/HasLab/PI/statistics/resnet50_18_11/resnet50_2_64_1_true/vfssize_interval/'\n",
    "# path = '/home/utilizador/Documents/HasLab/PI/statistics/alexnet_18_11/alexnet_2_64_0_false/vfssize_interval/'\n",
    "\n",
    "df_interval_list = list()\n",
    "\n",
    "len_list = list()\n",
    "\n",
    "for file in os.listdir(path):\n",
    "\n",
    "    pattern = r'python3.*\\.JPEG\\.pkl'\n",
    "\n",
    "    if re.match(pattern, file):\n",
    "\n",
    "        filepath = os.path.join(path, file)\n",
    "\n",
    "        df = loadFile(filepath)\n",
    "\n",
    "        df_interval_list.append([df.columns, file])\n",
    "\n",
    "\n",
    "# print(f'total: {total}, not_cached: {not_cached}')\n",
    "# print((not_cached/total)*100, '%')"
   ]
  },
  {
   "cell_type": "code",
   "execution_count": null,
   "metadata": {},
   "outputs": [],
   "source": [
    "pprint.pprint(df_interval_list)"
   ]
  },
  {
   "cell_type": "code",
   "execution_count": null,
   "metadata": {},
   "outputs": [],
   "source": [
    "ndf = pd.concat(df_interval_list)\n",
    "\n",
    "ndf.head()"
   ]
  },
  {
   "cell_type": "code",
   "execution_count": null,
   "metadata": {},
   "outputs": [],
   "source": [
    "df.head()"
   ]
  },
  {
   "cell_type": "code",
   "execution_count": null,
   "metadata": {},
   "outputs": [],
   "source": [
    "print(df.loc[len(df.columns) > 1])"
   ]
  },
  {
   "cell_type": "markdown",
   "metadata": {},
   "source": [
    "# Load vfssize"
   ]
  },
  {
   "cell_type": "code",
   "execution_count": null,
   "metadata": {},
   "outputs": [],
   "source": [
    "path = '/home/utilizador/Documents/HasLab/PI/statistics/resnet50_18_11/resnet50_2_64_1_true/vfssize/'\n",
    "\n",
    "df_list = list()\n",
    "\n",
    "for file in os.listdir(path):\n",
    "\n",
    "    pattern = r'python3.*\\.JPEG\\.pkl'\n",
    "\n",
    "    if re.match(pattern, file):\n",
    "\n",
    "        filepath = os.path.join(path, file)\n",
    "\n",
    "        df = loadFile(filepath)\n",
    "        df = df.transpose()\n",
    "        df['title'] = [file]\n",
    "\n",
    "        df_list.append(df)"
   ]
  },
  {
   "cell_type": "markdown",
   "metadata": {},
   "source": [
    "# Concat all dataframes"
   ]
  },
  {
   "cell_type": "code",
   "execution_count": null,
   "metadata": {},
   "outputs": [],
   "source": [
    "df = pd.concat(df_list, ignore_index=True).fillna(0)\n",
    "df = df.set_index('title')"
   ]
  },
  {
   "cell_type": "code",
   "execution_count": null,
   "metadata": {},
   "outputs": [],
   "source": [
    "df"
   ]
  },
  {
   "cell_type": "code",
   "execution_count": null,
   "metadata": {},
   "outputs": [],
   "source": [
    "path = '/home/utilizador/Documents/HasLab/PI/HASlabScripts/eBPFs-tools/parser/plots/resnet/vfssize_interval/python3_n03763968_7930.JPEG.pkl'\n",
    "\n",
    "df = loadFile(path)\n",
    "\n",
    "df"
   ]
  },
  {
   "cell_type": "code",
   "execution_count": null,
   "metadata": {},
   "outputs": [],
   "source": [
    "df = pd.concat(df_interval_list, ignore_index=True).fillna(0)\n",
    "df = df.set_index('title')"
   ]
  },
  {
   "cell_type": "code",
   "execution_count": null,
   "metadata": {},
   "outputs": [],
   "source": [
    "df.head()"
   ]
  },
  {
   "cell_type": "code",
   "execution_count": null,
   "metadata": {},
   "outputs": [],
   "source": [
    "print(df.sum(axis = 1))"
   ]
  },
  {
   "cell_type": "code",
   "execution_count": null,
   "metadata": {},
   "outputs": [],
   "source": [
    "print(df.loc[:, ]"
   ]
  }
 ],
 "metadata": {
  "kernelspec": {
   "display_name": "Python 3",
   "language": "python",
   "name": "python3"
  },
  "language_info": {
   "name": "python",
   "version": "3.11.0"
  }
 },
 "nbformat": 4,
 "nbformat_minor": 4
}
