{
 "cells": [
  {
   "cell_type": "code",
   "execution_count": 1,
   "metadata": {},
   "outputs": [],
   "source": [
    "import re\n",
    "import os\n",
    "import numpy as np\n",
    "import pandas as pd\n",
    "from pandas._libs.tslibs import dtypes, timestamps\n",
    "import subprocess\n",
    "from functools import reduce\n",
    "import matplotlib\n",
    "matplotlib.use('Qt5Agg')\n",
    "import matplotlib.pyplot as plt\n",
    "# Using matplotlib backend: QtAgg"
   ]
  },
  {
   "cell_type": "code",
   "execution_count": 2,
   "metadata": {},
   "outputs": [
    {
     "name": "stdout",
     "output_type": "stream",
     "text": [
      "                 system_time                                    action  \\\n",
      "0 2024-11-05 01:27:19.453645                            Training begin   \n",
      "1 2024-11-05 01:27:19.454282                          Training epoch 1   \n",
      "3 2024-11-05 01:27:20.064135                Start Training Iteration 0   \n",
      "4 2024-11-05 01:27:20.064876   Moving data to the same device as model   \n",
      "5 2024-11-05 01:27:20.065609                          Computing output   \n",
      "\n",
      "                duration  \n",
      "0 0 days 00:00:00.000637  \n",
      "1 0 days 00:00:00.609853  \n",
      "3 0 days 00:00:00.000741  \n",
      "4 0 days 00:00:00.000733  \n",
      "5 0 days 00:00:00.904331  \n"
     ]
    }
   ],
   "source": [
    "file = \"/home/utilizador/Documents/HasLab/PI/statistics/18_11/alexnet_2_64_1_true/write_lat\"\n",
    "\n",
    "df = pd.read_csv(file, skiprows=[0], delimiter=\" +\")\n",
    "\n",
    "df = df[:-1]\n",
    "\n",
    "df['TIMESTAMP'] = pd.to_datetime(df['TIMESTAMP'], format=\"%H:%M:%S.%f\")\n",
    "\n",
    "df.head()"
   ]
  },
  {
   "cell_type": "code",
   "execution_count": null,
   "metadata": {},
   "outputs": [],
   "source": [
    "df.head()\n"
   ]
  },
  {
   "cell_type": "code",
   "execution_count": null,
   "metadata": {},
   "outputs": [],
   "source": [
    "print(len(df.loc[(df['TIMESTAMP'] >= \"1900-01-01 2:45:00\") & (df['TIMESTAMP'] <= \"1900-01-01 2:49:00\")]))\n",
    "print(len(df.loc[(df['TIMESTAMP'] >= \"1900-01-01 2:55:00\") & (df['TIMESTAMP'] <= \"1900-01-01 2:59:00\")]))"
   ]
  },
  {
   "cell_type": "code",
   "execution_count": 7,
   "metadata": {},
   "outputs": [],
   "source": [
    "def plotAction(df_param: pd.DataFrame, x, y, title):\n",
    "\n",
    "    dt = df_param\n",
    "\n",
    "    # plots action with time\n",
    "    plt.figure()\n",
    "    plt.plot(dt[x], dt[y], markersize = 5.0, marker = \"+\")\n",
    "    plt.xlabel(x)\n",
    "    plt.ylabel(y)\n",
    "    plt.title(title)\n",
    "    plt.legend()\n",
    "    plt.show()"
   ]
  },
  {
   "cell_type": "code",
   "execution_count": 8,
   "metadata": {},
   "outputs": [
    {
     "name": "stderr",
     "output_type": "stream",
     "text": [
      "QStandardPaths: wrong permissions on runtime directory /run/user/0/, 0755 instead of 0700\n"
     ]
    }
   ],
   "source": [
    "plotAction(df, 'TIMESTAMP', 'LAT(ns)', '')"
   ]
  },
  {
   "cell_type": "code",
   "execution_count": null,
   "metadata": {},
   "outputs": [],
   "source": [
    "plotAction(df, 'TIME', '%SEQ', '')"
   ]
  },
  {
   "cell_type": "code",
   "execution_count": null,
   "metadata": {},
   "outputs": [],
   "source": [
    "plotAction(df, 'TIME', 'COUNT', '')"
   ]
  },
  {
   "cell_type": "code",
   "execution_count": null,
   "metadata": {},
   "outputs": [],
   "source": [
    "plotAction(df, 'TIME', 'KBYTES', '')"
   ]
  }
 ],
 "metadata": {
  "kernelspec": {
   "display_name": "Python 3",
   "language": "python",
   "name": "python3"
  },
  "language_info": {
   "codemirror_mode": {
    "name": "ipython",
    "version": 3
   },
   "file_extension": ".py",
   "mimetype": "text/x-python",
   "name": "python",
   "nbconvert_exporter": "python",
   "pygments_lexer": "ipython3",
   "version": "3.10.12"
  }
 },
 "nbformat": 4,
 "nbformat_minor": 4
}
