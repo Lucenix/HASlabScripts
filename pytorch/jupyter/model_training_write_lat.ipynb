{
 "cells": [
  {
   "cell_type": "code",
   "execution_count": 1,
   "metadata": {},
   "outputs": [],
   "source": [
    "import re\n",
    "import os\n",
    "import numpy as np\n",
    "import pandas as pd\n",
    "import pickle as pkl\n",
    "from pandas._libs.tslibs import dtypes, timestamps\n",
    "import subprocess\n",
    "from functools import reduce\n",
    "import matplotlib\n",
    "matplotlib.use('Qt5Agg')\n",
    "import matplotlib.pyplot as plt\n",
    "# Using matplotlib backend: QtAgg"
   ]
  },
  {
   "cell_type": "code",
   "execution_count": 7,
   "metadata": {},
   "outputs": [],
   "source": [
    "def plotAction(df_param: pd.DataFrame, x, y, title):\n",
    "\n",
    "    dt = df_param\n",
    "\n",
    "    # plots action with time\n",
    "    plt.figure()\n",
    "    plt.plot(dt[x], dt[y], markersize = 5.0, marker = \"+\")\n",
    "    plt.xlabel(x)\n",
    "    plt.ylabel(y)\n",
    "    plt.title(title)\n",
    "    plt.show()"
   ]
  },
  {
   "cell_type": "code",
   "execution_count": 2,
   "metadata": {},
   "outputs": [
    {
     "name": "stdout",
     "output_type": "stream",
     "text": [
      "                 system_time                                    action  \\\n",
      "0 2024-11-05 01:27:19.453645                            Training begin   \n",
      "1 2024-11-05 01:27:19.454282                          Training epoch 1   \n",
      "3 2024-11-05 01:27:20.064135                Start Training Iteration 0   \n",
      "4 2024-11-05 01:27:20.064876   Moving data to the same device as model   \n",
      "5 2024-11-05 01:27:20.065609                          Computing output   \n",
      "\n",
      "                duration  \n",
      "0 0 days 00:00:00.000637  \n",
      "1 0 days 00:00:00.609853  \n",
      "3 0 days 00:00:00.000741  \n",
      "4 0 days 00:00:00.000733  \n",
      "5 0 days 00:00:00.904331  \n"
     ]
    }
   ],
   "source": [
    "file = \"/home/utilizador/Documents/HasLab/PI/statistics/noworkersalexnet2511/alexnet_2_64_1_false/write_lat\"\n",
    "\n",
    "df_write = pd.read_csv(file, skiprows=[0], delimiter=\" +\")\n",
    "\n",
    "df_write = df_write[:-1]\n",
    "\n",
    "df_write['TIMESTAMP'] = pd.to_datetime(df_write['TIMESTAMP'], format=\"%H:%M:%S.%f\")"
   ]
  },
  {
   "cell_type": "code",
   "execution_count": null,
   "metadata": {},
   "outputs": [],
   "source": [
    "file = \"/home/utilizador/Documents/HasLab/PI/statistics/noworkersalexnet2511/alexnet_2_64_1_false/read_lat\"\n",
    "\n",
    "df_read = pd.read_csv(file, skiprows=[0], delimiter=\" +\")\n",
    "\n",
    "df_read = df_read[:-1]\n",
    "\n",
    "df_read['TIMESTAMP'] = pd.to_datetime(df_read['TIMESTAMP'], format=\"%H:%M:%S.%f\")"
   ]
  },
  {
   "cell_type": "code",
   "execution_count": null,
   "metadata": {},
   "outputs": [],
   "source": [
    "df_write = df_write.dropna()\n",
    "df_read = df_read.dropna()"
   ]
  },
  {
   "cell_type": "code",
   "execution_count": null,
   "metadata": {},
   "outputs": [],
   "source": [
    "print(df_write.head())\n",
    "print()\n",
    "print(df_read.head())"
   ]
  },
  {
   "cell_type": "code",
   "execution_count": null,
   "metadata": {},
   "outputs": [],
   "source": [
    "df = df_read.loc[df_read['FILENAME'].str.contains('UNIX-STREAM')]\n",
    "\n",
    "\n",
    "print(df)\n",
    "\n",
    "df.set_index('TIMESTAMP', inplace=True)\n",
    "\n",
    "df['count'] = 1\n",
    "\n",
    "df = df.resample(\"1s\").agg({'count':'sum'})\n",
    "\n",
    "df"
   ]
  },
  {
   "cell_type": "code",
   "execution_count": null,
   "metadata": {},
   "outputs": [],
   "source": [
    "print(df.head())\n",
    "\n",
    "fig = plt.figure()\n",
    "plt.plot(df['count'], markersize = 5.0, marker = \"+\")\n",
    "plt.title(\"read\")\n",
    "\n",
    "# plt.show()\n",
    "\n",
    "with open(\"read.pkl\", \"w+b\") as fd:\n",
    "    pkl.dump(fig, fd)"
   ]
  },
  {
   "cell_type": "code",
   "execution_count": null,
   "metadata": {},
   "outputs": [],
   "source": [
    "df_w = df_write.loc[df_write['FILENAME'].str.contains('UNIX-STREAM')]\n",
    "\n",
    "\n",
    "print(df_w)\n",
    "\n",
    "df_w.set_index('TIMESTAMP', inplace=True)\n",
    "\n",
    "df_w['count'] = 1\n",
    "\n",
    "df_w = df_w.resample(\"1s\").agg({'count':'sum'})\n",
    "\n",
    "df_w.head()"
   ]
  },
  {
   "cell_type": "code",
   "execution_count": null,
   "metadata": {},
   "outputs": [],
   "source": [
    "print(df_w.head())\n",
    "\n",
    "fig = plt.figure()\n",
    "plt.plot(df_w['count'], markersize = 5.0, marker = \"+\")\n",
    "plt.title(\"write\")\n",
    "\n",
    "# plt.show()\n",
    "\n",
    "with open(\"write.pkl\", \"w+b\") as fd:\n",
    "    pkl.dump(fig, fd)"
   ]
  }
 ],
 "metadata": {
  "kernelspec": {
   "display_name": "Python 3",
   "language": "python",
   "name": "python3"
  },
  "language_info": {
   "codemirror_mode": {
    "name": "ipython",
    "version": 3
   },
   "file_extension": ".py",
   "mimetype": "text/x-python",
   "name": "python",
   "nbconvert_exporter": "python",
   "pygments_lexer": "ipython3",
   "version": "3.10.12"
  }
 },
 "nbformat": 4,
 "nbformat_minor": 4
}
