{
  "cells": [
    {
      "cell_type": "code",
      "execution_count": 1,
      "metadata": {},
      "outputs": [
        {
          "ename": "ModuleNotFoundError",
          "evalue": "No module named 'matplotlib'",
          "output_type": "error",
          "traceback": [
            "\u001b[0;31m---------------------------------------------------------------------------\u001b[0m",
            "\u001b[0;31mModuleNotFoundError\u001b[0m                       Traceback (most recent call last)",
            "Cell \u001b[0;32mIn[1], line 1\u001b[0m\n\u001b[0;32m----> 1\u001b[0m \u001b[38;5;28;01mimport\u001b[39;00m \u001b[38;5;21;01mmatplotlib\u001b[39;00m\u001b[38;5;21;01m.\u001b[39;00m\u001b[38;5;21;01mpyplot\u001b[39;00m \u001b[38;5;28;01mas\u001b[39;00m \u001b[38;5;21;01mplt\u001b[39;00m\n\u001b[1;32m      2\u001b[0m \u001b[38;5;28;01mimport\u001b[39;00m \u001b[38;5;21;01mnumpy\u001b[39;00m \u001b[38;5;28;01mas\u001b[39;00m \u001b[38;5;21;01mnp\u001b[39;00m\n\u001b[1;32m      3\u001b[0m \u001b[38;5;28;01mimport\u001b[39;00m \u001b[38;5;21;01mpandas\u001b[39;00m \u001b[38;5;28;01mas\u001b[39;00m \u001b[38;5;21;01mpd\u001b[39;00m\n",
            "\u001b[0;31mModuleNotFoundError\u001b[0m: No module named 'matplotlib'"
          ]
        }
      ],
      "source": [
        "import matplotlib.pyplot as plt\n",
        "import numpy as np\n",
        "import pandas as pd\n",
        "from pandas._libs.tslibs import dtypes, timestamps"
      ]
    },
    {
      "cell_type": "code",
      "execution_count": null,
      "metadata": {},
      "outputs": [],
      "source": [
        "df = pd.read_csv('./control_subset_simple/resnet50_2_64_1.csv', skiprows=[0,1,2,3,4])\n",
        "df_gpu = pd.read_csv('./control_subset_simple/resnet50_2_64_1_gpu.csv', dtype={\"utilization.gpu\": float})\n",
        "\n",
        "# df_gpu.drop(columns=['name', 'pci.bus_id'], inplace=True)\n",
        "# rename columns\n",
        "df.rename(columns={\n",
        "'read':'read_io_total',\n",
        "'writ':'write_io_total',\n",
        "'time':'system_time',\n",
        "'usr':'usr_cpu_usage',\n",
        "'sys':'sys_cpu_usage',\n",
        "'idl':'idl_cpu_usage',\n",
        "'wai':'wai_cpu_usage',\n",
        "'stl':'stl_cpu_usage',\n",
        "'read.1':'read_dsk_total',\n",
        "'writ.1':'writ_dsk_total',\n",
        "'used':'used_memory',\n",
        "'free':'free_memory',\n",
        "'buff':'buff_memory',\n",
        "'cach':'cach_memory',\n",
        "'recv':'recv_net_total',\n",
        "'send':'send_net_total',\n",
        "'in':'in_paging',\n",
        "'out':'out_paging'}, inplace=True)\n",
        "\n",
        "df_gpu.rename(columns={\n",
        "' temperature.gpu':'temperature_gpu',\n",
        "' utilization.gpu [%]':'utilization_gpu',\n",
        "' utilization.memory [%]':'utilization_memory',\n",
        "' memory.total [MiB]':'memory_total',\n",
        "' memory.free [MiB]':'memory_free',\n",
        "' memory.used [MiB]':'memory_used'}, inplace=True)"
      ]
    },
    {
      "cell_type": "code",
      "execution_count": null,
      "metadata": {},
      "outputs": [],
      "source": [
        "print(df.head())\n",
        "print(df_gpu.head())"
      ]
    },
    {
      "cell_type": "code",
      "execution_count": null,
      "metadata": {},
      "outputs": [],
      "source": [
        "# Totals\n",
        "\n",
        "print(f\"Read IO Total: {df['read_io_total'].sum()}\")\n",
        "print(f\"Write IO Total: {df['write_io_total'].sum()}\")\n",
        "print(f\"Read Disk Total: {df['read_dsk_total'].sum()}\")\n",
        "print(f\"Write Disk Total: {df['writ_dsk_total'].sum()}\")\n",
        "print(f\"Used Memory: {df['used_memory'].sum()}\")\n",
        "print(f\"Free Memory: {df['free_memory'].sum()}\")\n",
        "print(f\"Buffer Memory: {df['buff_memory'].sum()}\")\n",
        "print(f\"Cache Memory: {df['cach_memory'].sum()}\")\n",
        "print(f\"Receive Net Total: {df['recv_net_total'].sum()}\")\n",
        "print(f\"Send Net Total: {df['send_net_total'].sum()}\")\n",
        "print()\n",
        "print (f\"Total GPU Utilization Memory (%): {df_gpu['utilization_memory'].sum()}\")\n",
        "print (f\"Total GPU Memory Total (MiB): {df_gpu['memory_total'].sum()}\")\n",
        "print (f\"Total GPU Memory Free (MiB): {df_gpu['memory_free'].sum()}\")\n",
        "print (f\"Total GPU Memory Used (MiB): {df_gpu['memory_used'].sum()}\")"
      ]
    },
    {
      "cell_type": "code",
      "execution_count": null,
      "metadata": {},
      "outputs": [],
      "source": [
        "# Means\n",
        "\n",
        "print(f\"Read IO Average: {df['read_io_total'].mean()}\")\n",
        "print(f\"Write IO Average: {df['write_io_total'].mean()}\")\n",
        "print(f\"Read Disk Average: {df['read_dsk_total'].mean()}\")\n",
        "print(f\"Write Disk Average: {df['writ_dsk_total'].mean()}\")\n",
        "print(f\"Used Memory Average: {df['used_memory'].mean()}\")\n",
        "print(f\"Free Memory Average: {df['free_memory'].mean()}\")\n",
        "print(f\"Buffer Memory Average: {df['buff_memory'].mean()}\")\n",
        "print(f\"Cache Memory Average: {df['cach_memory'].mean()}\")\n",
        "print(f\"Receive Net Average: {df['recv_net_total'].mean()}\")\n",
        "print(f\"Send Net Average: {df['send_net_total'].mean()}\")\n",
        "print(f\"User CPU Usage Average: {df['usr_cpu_usage'].mean()}\")\n",
        "print(f\"System CPU Usage Average: {df['sys_cpu_usage'].mean()}\")\n",
        "print(f\"Idle CPU Usage Average: {df['idl_cpu_usage'].mean()}\")\n",
        "print(f\"Wait CPU Usage Average: {df['wai_cpu_usage'].mean()}\")\n",
        "print()\n",
        "print (f\"GPU Temperature Average: {df_gpu['temperature_gpu'].mean()}\")\n",
        "print (f\"GPU Utilization Average (%): {df_gpu['utilization_gpu'].mean()}\")\n",
        "print (f\"GPU Utilization Memory Average (%): {df_gpu['utilization_memory'].mean()}\")\n",
        "print (f\"GPU Memory Total Average (MiB): {df_gpu['memory_total'].mean()}\")\n",
        "print (f\"GPU Memory Free Average (MiB): {df_gpu['memory_free'].mean()}\")\n",
        "print (f\"GPU Memory Used Average (MiB): {df_gpu['memory_used'].mean()}\")"
      ]
    },
    {
      "cell_type": "code",
      "execution_count": null,
      "metadata": {},
      "outputs": [],
      "source": [
        "# Max and Min values\n",
        "print(f\"Max Read IO: {df['read_io_total'].max()} ; Min Read IO: {df['read_io_total'].min()}\")\n",
        "print(f\"Max Write IO: {df['write_io_total'].max()} ; Min Write IO: {df['write_io_total'].min()}\")\n",
        "print(f\"Max Read Disk: {df['read_dsk_total'].max()} ; Min Read Disk: {df['read_dsk_total'].min()}\")\n",
        "print(f\"Max Write Disk: {df['writ_dsk_total'].max()} ; Min Write Disk: {df['writ_dsk_total'].min()}\")\n",
        "print(f\"Max Used Memory: {df['used_memory'].max()} ; Min Used Memory: {df['used_memory'].min()}\")\n",
        "print(f\"Max Free Memory: {df['free_memory'].max()} ; Min Free Memory: {df['free_memory'].min()}\")\n",
        "print(f\"Max Buffer Memory: {df['buff_memory'].max()} ; Min Buffer Memory: {df['buff_memory'].min()}\")\n",
        "print(f\"Max Cache Memory: {df['cach_memory'].max()} ; Min Cache Memory: {df['cach_memory'].min()}\")\n",
        "print(f\"Max Receive Net: {df['recv_net_total'].max()} ; Min Receive Net: {df['recv_net_total'].min()}\")\n",
        "print(f\"Max Send Net: {df['send_net_total'].max()} ; Min Send Net: {df['send_net_total'].min()}\")\n",
        "print(f\"Max User CPU Usage: {df['usr_cpu_usage'].max()} ; Min User CPU Usage: {df['usr_cpu_usage'].min()}\")\n",
        "print(f\"Max System CPU Usage: {df['sys_cpu_usage'].max()} ; Min System CPU Usage: {df['sys_cpu_usage'].min()}\")\n",
        "print(f\"Max Idle CPU Usage: {df['idl_cpu_usage'].max()} ; Min Idle CPU Usage: {df['idl_cpu_usage'].min()}\")\n",
        "print(f\"Max Wait CPU Usage: {df['wai_cpu_usage'].max()} ; Min Wait CPU Usage: {df['wai_cpu_usage'].min()}\")\n",
        "print()\n",
        "print (f\"Max GPU Temperature: {df_gpu['temperature_gpu'].max()} ; Min GPU Temperature: {df_gpu['temperature_gpu'].min()}\")\n",
        "print (f\"Max GPU Utilization (%): {df_gpu['utilization_gpu'].max()} ; Min GPU Utilization: {df_gpu['utilization_gpu'].min()}\")\n",
        "print (f\"Max GPU Utilization Memory (MiB): {df_gpu['utilization_memory'].max()} ; Min GPU Utilization Memory (MiB): {df_gpu['utilization_memory'].min()}\")\n",
        "print (f\"Max GPU Memory Total (MiB): {df_gpu['memory_total'].max()} ; Min GPU Memory Total (MiB): {df_gpu['memory_total'].min()}\")\n",
        "print (f\"Max GPU Memory Free (MiB): {df_gpu['memory_free'].max()} ; Min GPU Memory Free (MiB): {df_gpu['memory_free'].min()}\")\n",
        "print (f\"Max GPU Memory Used (MiB): {df_gpu['memory_used'].max()} ; Min GPU Memory Used (MiB): {df_gpu['memory_used'].min()}\")"
      ]
    },
    {
      "cell_type": "code",
      "execution_count": null,
      "metadata": {},
      "outputs": [],
      "source": [
        "# plots IO with time\n",
        "plt.figure()\n",
        "plt.plot(df['system_time'], df['read_io_total'], label='Reads')\n",
        "plt.plot(df['system_time'], df['write_io_total'], label='Write Requests')\n",
        "plt.xlabel('Time (s)')\n",
        "plt.ylabel('#IO operations')\n",
        "plt.title('IO with time')\n",
        "plt.legend()\n",
        "plt.show()"
      ]
    },
    {
      "cell_type": "code",
      "execution_count": null,
      "metadata": {},
      "outputs": [],
      "source": [
        "# plots Disk with time\n",
        "plt.figure()\n",
        "plt.plot(df['system_time'], df['read_dsk_total'], label='Reads')\n",
        "plt.plot(df['system_time'], df['writ_dsk_total'], label='Writes')\n",
        "plt.xlabel('Time (s)')\n",
        "plt.ylabel('Disk (bytes)')\n",
        "plt.title('Disk with time')\n",
        "plt.legend()\n",
        "plt.show()"
      ]
    },
    {
      "cell_type": "code",
      "execution_count": null,
      "metadata": {},
      "outputs": [],
      "source": [
        "# plots Memory with time\n",
        "plt.figure()\n",
        "plt.plot(df['system_time'], df['used_memory'], label='Used Memory')\n",
        "plt.plot(df['system_time'], df['free_memory'], label='Free Memory')\n",
        "plt.plot(df['system_time'], df['buff_memory'], label='Buffer Memory')\n",
        "plt.plot(df['system_time'], df['cach_memory'], label='Cache Memory')\n",
        "plt.xlabel('Time (s)')\n",
        "plt.ylabel('Memory (bytes)')\n",
        "plt.title('Memory with time')\n",
        "plt.legend()\n",
        "plt.show()"
      ]
    },
    {
      "cell_type": "code",
      "execution_count": null,
      "metadata": {},
      "outputs": [],
      "source": [
        "# plots Network with time\n",
        "plt.figure()\n",
        "plt.plot(df['system_time'], df['recv_net_total'], label='Received Net')\n",
        "plt.plot(df['system_time'], df['send_net_total'], label='Send Net')\n",
        "plt.xlabel('Time (s)')\n",
        "plt.ylabel('Network (bytes)')\n",
        "plt.title('Network with time')\n",
        "plt.legend()\n",
        "plt.show()"
      ]
    },
    {
      "cell_type": "code",
      "execution_count": null,
      "metadata": {},
      "outputs": [],
      "source": [
        "# plots CPU with time\n",
        "plt.figure()\n",
        "plt.plot(df['system_time'], df['usr_cpu_usage'], label='usr CPU usage')\n",
        "plt.plot(df['system_time'], df['sys_cpu_usage'], label='sys CPU usage')\n",
        "plt.plot(df['system_time'], df['idl_cpu_usage'], label='idl CPU usage')\n",
        "plt.plot(df['system_time'], df['wai_cpu_usage'], label='wai CPU usage')\n",
        "plt.xlabel('Time (s)')\n",
        "plt.ylabel('CPU (%)')\n",
        "plt.title('CPU with time')\n",
        "plt.legend()\n",
        "plt.show()"
      ]
    },
    {
      "cell_type": "code",
      "execution_count": null,
      "metadata": {},
      "outputs": [],
      "source": [
        "# plots gpu temperature with time\n",
        "plt.figure()\n",
        "plt.plot(df_gpu['timestamp'], df_gpu['temperature_gpu'], label='Temperature')\n",
        "plt.xlabel('Time (s)')\n",
        "plt.ylabel('Temperature (°C)')\n",
        "plt.title('GPU Temperature with time')\n",
        "plt.legend()\n",
        "plt.show()"
      ]
    },
    {
      "cell_type": "code",
      "execution_count": null,
      "metadata": {},
      "outputs": [],
      "source": [
        "# plots gpu utilization with time\n",
        "plt.figure()\n",
        "plt.plot(df_gpu['timestamp'], df_gpu['utilization_gpu'], label='Utilization')\n",
        "plt.xlabel('Time (s)')\n",
        "plt.ylabel('Utilization (%)')\n",
        "plt.title('GPU Utilization with time')\n",
        "plt.legend()\n",
        "plt.show()"
      ]
    },
    {
      "cell_type": "code",
      "execution_count": null,
      "metadata": {},
      "outputs": [],
      "source": [
        "# plots gpu memory with time\n",
        "plt.figure()\n",
        "plt.plot(df_gpu['timestamp'], df_gpu['memory_total'], label='Total Memory')\n",
        "plt.plot(df_gpu['timestamp'], df_gpu['memory_free'], label='Free Memory')\n",
        "plt.plot(df_gpu['timestamp'], df_gpu['memory_used'], label='Used Memory')\n",
        "plt.xlabel('Time (s)')\n",
        "plt.ylabel('Memory (MiB)')\n",
        "plt.title('GPU Memory with time')\n",
        "plt.legend()\n",
        "plt.show()"
      ]
    }
  ],
  "metadata": {
    "kernelspec": {
      "display_name": ".venv",
      "language": "python",
      "name": "python3"
    },
    "language_info": {
      "codemirror_mode": {
        "name": "ipython",
        "version": 3
      },
      "file_extension": ".py",
      "mimetype": "text/x-python",
      "name": "python",
      "nbconvert_exporter": "python",
      "pygments_lexer": "ipython3",
      "version": "3.12.2"
    }
  },
  "nbformat": 4,
  "nbformat_minor": 4
}
