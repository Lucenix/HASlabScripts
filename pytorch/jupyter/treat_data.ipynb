{
 "cells": [
  {
   "cell_type": "code",
   "execution_count": 3,
   "metadata": {},
   "outputs": [],
   "source": [
    "import os\n",
    "import numpy as np\n",
    "import pandas as pd\n",
    "from pandas._libs.tslibs import dtypes, timestamps\n",
    "import subprocess\n",
    "from functools import reduce\n",
    "import matplotlib\n",
    "matplotlib.use('Qt5Agg')\n",
    "import matplotlib.pyplot as plt\n",
    "# Using matplotlib backend: QtAgg"
   ]
  },
  {
   "cell_type": "code",
   "execution_count": null,
   "metadata": {},
   "outputs": [],
   "source": [
    "system = \"slurm\"\n",
    "model = \"alexnet\"\n",
    "n_nodes = \"4\"\n",
    "n_epochs = \"2\"\n",
    "batch_size = \"32\"\n",
    "save_every = \"0\"\n",
    "log = \"true\"\n",
    "\n",
    "filename = \"dstat.csv\"\n",
    "\n",
    "if system == \"aurora01\":\n",
    "    stat_dir = \"/home/gsd/andrelucena/statistics\"\n",
    "elif system == \"slurm\":\n",
    "    stat_dir = \"/projects/a97485/statistics\"\n",
    "\n",
    "stat_test = \"eBPFs_subset_t2\"\n",
    "if system == \"aurora01\":\n",
    "    test_name = model + \"_\" + n_epochs + \"_\" + batch_size + \"_\" + save_every + \"_\" + log\n",
    "elif system == \"slurm\":\n",
    "    test_name = model + \"_\" + n_nodes + \"_\" + n_epochs + \"_\" + batch_size + \"_\" + save_every + \"_\" + log\n",
    "\n",
    "full_test_path = stat_dir + \"/\" + stat_test + \"/\" + test_name\n",
    "if system == \"slurm\":\n",
    "    full_test_path += \"/aurora03\"\n",
    "\n",
    "p = subprocess.Popen([\"scp\", f\"{system}:{full_test_path}/dstat.csv\", \"./dstat.csv\"])\n",
    "sts = os.waitpid(p.pid, 0)\n",
    "p = subprocess.Popen([\"scp\", f\"{system}:{full_test_path}/gpu.csv\", \"./gpu.csv\"])\n",
    "sts = os.waitpid(p.pid, 0)\n",
    "\n",
    "df = pd.read_csv(f\"./dstat.csv\", skiprows=[0,1,2,3,4], index_col=False)\n",
    "\n",
    "os.remove(\"./dstat.csv\")\n",
    "\n",
    "df_gpu = pd.read_csv(f\"./gpu.csv\", dtype={\"utilization.gpu\": float}, index_col=False)\n",
    "\n",
    "os.remove(\"./gpu.csv\")"
   ]
  },
  {
   "cell_type": "code",
   "execution_count": 5,
   "metadata": {},
   "outputs": [
    {
     "name": "stdout",
     "output_type": "stream",
     "text": [
      "             time    usr     sys     idl    wai  stl          read       writ  \\\n",
      "0  09-11 22:22:36  1.067   1.239  97.516  0.178    0  4.871991e+05  31035.651   \n",
      "1  09-11 22:22:37  1.399  11.832  86.260  0.509    0  1.128038e+07  40960.000   \n",
      "2  09-11 22:22:38  1.389   4.167  94.192  0.253    0  0.000000e+00      0.000   \n",
      "3  09-11 22:22:39  1.646   4.177  94.051  0.127    0  0.000000e+00  24576.000   \n",
      "4  09-11 22:22:40  1.267   4.056  94.423  0.253    0  0.000000e+00      0.000   \n",
      "\n",
      "   read.1  writ.1     recv     send        used         free    buff  \\\n",
      "0  10.378   1.301        0        0  9917571072  23150911488  290816   \n",
      "1  82.000   6.000  8711189  6610580  9939308544  23123722240  290816   \n",
      "2   0.000   0.000  5045796  4288752  9939619840  23123206144  290816   \n",
      "3   0.000   2.000  5111648  4348222  9939615744  23123206144  290816   \n",
      "4   0.000   0.000  4986698  4245038  9939865600  23122948096  290816   \n",
      "\n",
      "        cach         in       out  \n",
      "0  126787584  11842.724  9666.075  \n",
      "1  132239360      0.000     0.000  \n",
      "2  132444160      0.000     0.000  \n",
      "3  132448256      0.000     0.000  \n",
      "4  132456448      0.000     0.000  \n",
      "                 timestamp   temperature.gpu   utilization.gpu [%]  \\\n",
      "0  2024/11/09 22:22:37.810                46                     0   \n",
      "1  2024/11/09 22:22:38.811                47                     0   \n",
      "2  2024/11/09 22:22:39.812                47                     0   \n",
      "3  2024/11/09 22:22:40.812                47                     0   \n",
      "4  2024/11/09 22:22:41.813                47                     0   \n",
      "\n",
      "    utilization.memory [%]   memory.total [MiB]   memory.free [MiB]  \\\n",
      "0                        0                16380               16074   \n",
      "1                        0                16380               16074   \n",
      "2                        0                16380               16074   \n",
      "3                        0                16380               16074   \n",
      "4                        0                16380               16074   \n",
      "\n",
      "    memory.used [MiB]  \n",
      "0                   1  \n",
      "1                   1  \n",
      "2                   1  \n",
      "3                   1  \n",
      "4                   1  \n"
     ]
    }
   ],
   "source": [
    "\n",
    "print(df.head())\n",
    "print(df_gpu.head())"
   ]
  },
  {
   "cell_type": "code",
   "execution_count": 6,
   "metadata": {},
   "outputs": [],
   "source": [
    "\n",
    "# df_gpu.drop(columns=['name', 'pci.bus_id'], inplace=True)\n",
    "# rename columns\n",
    "df.rename(columns={\n",
    "'read':'read_io_total_nops',\n",
    "'writ':'write_io_total_nops',\n",
    "'time':'system_time',\n",
    "'usr':'usr_cpu_usage',\n",
    "'sys':'sys_cpu_usage',\n",
    "'idl':'idl_cpu_usage',\n",
    "'wai':'wai_cpu_usage',\n",
    "'stl':'stl_cpu_usage',\n",
    "'read.1':'read_dsk_total_bytes',\n",
    "'writ.1':'writ_dsk_total_bytes',\n",
    "'used':'used_memory',\n",
    "'free':'free_memory',\n",
    "'buff':'buff_memory',\n",
    "'cach':'cach_memory',\n",
    "'recv':'recv_net_total',\n",
    "'send':'send_net_total',\n",
    "'in':'in_paging',\n",
    "'out':'out_paging'}, inplace=True)\n",
    "\n",
    "df_gpu.rename(columns={\n",
    "' temperature.gpu':'temperature_gpu',\n",
    "' utilization.gpu [%]':'utilization_gpu',\n",
    "' utilization.memory [%]':'utilization_memory',\n",
    "' memory.total [MiB]':'memory_total',\n",
    "' memory.free [MiB]':'memory_free',\n",
    "' memory.used [MiB]':'memory_used'}, inplace=True)"
   ]
  },
  {
   "cell_type": "code",
   "execution_count": 7,
   "metadata": {},
   "outputs": [
    {
     "name": "stdout",
     "output_type": "stream",
     "text": [
      "system_time             datetime64[ns]\n",
      "usr_cpu_usage                  float64\n",
      "sys_cpu_usage                  float64\n",
      "idl_cpu_usage                  float64\n",
      "wai_cpu_usage                  float64\n",
      "stl_cpu_usage                    int64\n",
      "read_io_total_nops             float64\n",
      "write_io_total_nops            float64\n",
      "read_dsk_total_bytes           float64\n",
      "writ_dsk_total_bytes           float64\n",
      "recv_net_total                   int64\n",
      "send_net_total                   int64\n",
      "used_memory                      int64\n",
      "free_memory                      int64\n",
      "buff_memory                      int64\n",
      "cach_memory                      int64\n",
      "in_paging                      float64\n",
      "out_paging                     float64\n",
      "dtype: object\n",
      "timestamp             datetime64[ns]\n",
      "temperature_gpu                int64\n",
      "utilization_gpu                int64\n",
      "utilization_memory             int64\n",
      "memory_total                   int64\n",
      "memory_free                    int64\n",
      "memory_used                    int64\n",
      "dtype: object\n"
     ]
    }
   ],
   "source": [
    "df['system_time'] = pd.to_datetime(df['system_time'], format='%d-%m %H:%M:%S')\n",
    "df_gpu['timestamp'] = pd.to_datetime(df_gpu['timestamp'], format='ISO8601')\n",
    "print(df.dtypes)\n",
    "print(df_gpu.dtypes)"
   ]
  },
  {
   "cell_type": "code",
   "execution_count": 8,
   "metadata": {},
   "outputs": [
    {
     "name": "stdout",
     "output_type": "stream",
     "text": [
      "Read IO Total: 95,403,807.068\n",
      "Write IO Total: 13,404,475.651\n",
      "Read Disk Total: 1,078.378\n",
      "Write Disk Total: 1,867.301\n",
      "Used Memory: 33,297,138,544,640\n",
      "Free Memory: 29,497,794,560,000\n",
      "Buffer Memory: 1,936,863,232\n",
      "Cache Memory: 25,722,577,383,424\n",
      "Receive Net Total: 1,940,618,065,423\n",
      "Send Net Total: 1,924,991,167,659\n",
      "\n",
      "Total GPU Utilization Memory (%): 15,654\n",
      "Total GPU Memory Total (MiB): 43,439,760\n",
      "Total GPU Memory Free (MiB): 38,526,641\n",
      "Total GPU Memory Used (MiB): 4,104,259\n"
     ]
    }
   ],
   "source": [
    "# Totals\n",
    "\n",
    "print(f\"Read IO Total: {df['read_io_total_nops'].sum():,}\")\n",
    "print(f\"Write IO Total: {df['write_io_total_nops'].sum():,}\")\n",
    "print(f\"Read Disk Total: {df['read_dsk_total_bytes'].sum():,}\")\n",
    "print(f\"Write Disk Total: {df['writ_dsk_total_bytes'].sum():,}\")\n",
    "print(f\"Used Memory: {df['used_memory'].sum():,}\")\n",
    "print(f\"Free Memory: {df['free_memory'].sum():,}\")\n",
    "print(f\"Buffer Memory: {df['buff_memory'].sum():,}\")\n",
    "print(f\"Cache Memory: {df['cach_memory'].sum():,}\")\n",
    "print(f\"Receive Net Total: {df['recv_net_total'].sum():,}\")\n",
    "print(f\"Send Net Total: {df['send_net_total'].sum():,}\")\n",
    "print()\n",
    "print (f\"Total GPU Utilization Memory (%): {df_gpu['utilization_memory'].sum():,}\")\n",
    "print (f\"Total GPU Memory Total (MiB): {df_gpu['memory_total'].sum():,}\")\n",
    "print (f\"Total GPU Memory Free (MiB): {df_gpu['memory_free'].sum():,}\")\n",
    "print (f\"Total GPU Memory Used (MiB): {df_gpu['memory_used'].sum():,}\")"
   ]
  },
  {
   "cell_type": "code",
   "execution_count": 9,
   "metadata": {},
   "outputs": [
    {
     "name": "stdout",
     "output_type": "stream",
     "text": [
      "Read IO Average: 35,947.17674001507\n",
      "Write IO Average: 5,050.669047098719\n",
      "Read Disk Average: 0.4063217784476262\n",
      "Write Disk Average: 0.7035798794272795\n",
      "Used Memory Average: 12,546,020,551.861341\n",
      "Free Memory Average: 11,114,466,676.714394\n",
      "Buffer Memory Average: 729,790.2155237377\n",
      "Cache Memory Average: 9,692,003,535.577995\n",
      "Receive Net Average: 731,204,998.2754333\n",
      "Send Net Average: 725,316,943.353052\n",
      "User CPU Usage Average: 9.35927128862095\n",
      "System CPU Usage Average: 23.533714770158255\n",
      "Idle CPU Usage Average: 59.227159758854555\n",
      "Wait CPU Usage Average: 7.879871891484552\n",
      "\n",
      "GPU Temperature Average: 54.542986425339365\n",
      "GPU Utilization Average (%): 96.00565610859728\n",
      "GPU Utilization Memory Average (%): 5.902714932126697\n",
      "GPU Memory Total Average (MiB): 16,380.0\n",
      "GPU Memory Free Average (MiB): 14,527.391025641025\n",
      "GPU Memory Used Average (MiB): 1,547.6089743589744\n"
     ]
    }
   ],
   "source": [
    "# Means\n",
    "\n",
    "print(f\"Read IO Average: {df['read_io_total_nops'].mean():,}\")\n",
    "print(f\"Write IO Average: {df['write_io_total_nops'].mean():,}\")\n",
    "print(f\"Read Disk Average: {df['read_dsk_total_bytes'].mean():,}\")\n",
    "print(f\"Write Disk Average: {df['writ_dsk_total_bytes'].mean():,}\")\n",
    "print(f\"Used Memory Average: {df['used_memory'].mean():,}\")\n",
    "print(f\"Free Memory Average: {df['free_memory'].mean():,}\")\n",
    "print(f\"Buffer Memory Average: {df['buff_memory'].mean():,}\")\n",
    "print(f\"Cache Memory Average: {df['cach_memory'].mean():,}\")\n",
    "print(f\"Receive Net Average: {df['recv_net_total'].mean():,}\")\n",
    "print(f\"Send Net Average: {df['send_net_total'].mean():,}\")\n",
    "print(f\"User CPU Usage Average: {df['usr_cpu_usage'].mean():,}\")\n",
    "print(f\"System CPU Usage Average: {df['sys_cpu_usage'].mean():,}\")\n",
    "print(f\"Idle CPU Usage Average: {df['idl_cpu_usage'].mean():,}\")\n",
    "print(f\"Wait CPU Usage Average: {df['wai_cpu_usage'].mean():,}\")\n",
    "print()\n",
    "print (f\"GPU Temperature Average: {df_gpu['temperature_gpu'].mean():,}\")\n",
    "print (f\"GPU Utilization Average (%): {df_gpu['utilization_gpu'].mean():,}\")\n",
    "print (f\"GPU Utilization Memory Average (%): {df_gpu['utilization_memory'].mean():,}\")\n",
    "print (f\"GPU Memory Total Average (MiB): {df_gpu['memory_total'].mean():,}\")\n",
    "print (f\"GPU Memory Free Average (MiB): {df_gpu['memory_free'].mean():,}\")\n",
    "print (f\"GPU Memory Used Average (MiB): {df_gpu['memory_used'].mean():,}\")"
   ]
  },
  {
   "cell_type": "code",
   "execution_count": 10,
   "metadata": {},
   "outputs": [
    {
     "name": "stdout",
     "output_type": "stream",
     "text": [
      "Max Read IO: 22,503,424.0 ; Min Read IO: 0.0\n",
      "Max Write IO: 1,684,480.0 ; Min Write IO: 0.0\n",
      "Max Read Disk: 184.0 ; Min Read Disk: 0.0\n",
      "Max Write Disk: 108.0 ; Min Write Disk: 0.0\n",
      "Max Used Memory: 12,893,880,320 ; Min Used Memory: 9,917,571,072\n",
      "Max Free Memory: 23,150,911,488 ; Min Free Memory: 2,930,810,880\n",
      "Max Buffer Memory: 847,872 ; Min Buffer Memory: 290,816\n",
      "Max Cache Memory: 17,608,945,664 ; Min Cache Memory: 126,787,584\n",
      "Max Receive Net: 1,821,575,356 ; Min Receive Net: 0\n",
      "Max Send Net: 1,820,219,101 ; Min Send Net: 0\n",
      "Max User CPU Usage: 21.178 ; Min User CPU Usage: 0.0\n",
      "Max System CPU Usage: 38.258 ; Min System CPU Usage: 0.379\n",
      "Max Idle CPU Usage: 99.494 ; Min Idle CPU Usage: 22.475\n",
      "Max Wait CPU Usage: 52.02 ; Min Wait CPU Usage: 0.125\n",
      "\n",
      "Max GPU Temperature: 58 ; Min GPU Temperature: 46\n",
      "Max GPU Utilization (%): 100 ; Min GPU Utilization: 0\n",
      "Max GPU Utilization Memory (MiB): 13 ; Min GPU Utilization Memory (MiB): 0\n",
      "Max GPU Memory Total (MiB): 16,380 ; Min GPU Memory Total (MiB): 16,380\n",
      "Max GPU Memory Free (MiB): 16,074 ; Min GPU Memory Free (MiB): 14,465\n",
      "Max GPU Memory Used (MiB): 1,610 ; Min GPU Memory Used (MiB): 1\n"
     ]
    }
   ],
   "source": [
    "# Max and Min values\n",
    "print(f\"Max Read IO: {df['read_io_total_nops'].max():,} ; Min Read IO: {df['read_io_total_nops'].min():,}\")\n",
    "print(f\"Max Write IO: {df['write_io_total_nops'].max():,} ; Min Write IO: {df['write_io_total_nops'].min():,}\")\n",
    "print(f\"Max Read Disk: {df['read_dsk_total_bytes'].max():,} ; Min Read Disk: {df['read_dsk_total_bytes'].min():,}\")\n",
    "print(f\"Max Write Disk: {df['writ_dsk_total_bytes'].max():,} ; Min Write Disk: {df['writ_dsk_total_bytes'].min():,}\")\n",
    "print(f\"Max Used Memory: {df['used_memory'].max():,} ; Min Used Memory: {df['used_memory'].min():,}\")\n",
    "print(f\"Max Free Memory: {df['free_memory'].max():,} ; Min Free Memory: {df['free_memory'].min():,}\")\n",
    "print(f\"Max Buffer Memory: {df['buff_memory'].max():,} ; Min Buffer Memory: {df['buff_memory'].min():,}\")\n",
    "print(f\"Max Cache Memory: {df['cach_memory'].max():,} ; Min Cache Memory: {df['cach_memory'].min():,}\")\n",
    "print(f\"Max Receive Net: {df['recv_net_total'].max():,} ; Min Receive Net: {df['recv_net_total'].min():,}\")\n",
    "print(f\"Max Send Net: {df['send_net_total'].max():,} ; Min Send Net: {df['send_net_total'].min():,}\")\n",
    "print(f\"Max User CPU Usage: {df['usr_cpu_usage'].max():,} ; Min User CPU Usage: {df['usr_cpu_usage'].min():,}\")\n",
    "print(f\"Max System CPU Usage: {df['sys_cpu_usage'].max():,} ; Min System CPU Usage: {df['sys_cpu_usage'].min():,}\")\n",
    "print(f\"Max Idle CPU Usage: {df['idl_cpu_usage'].max():,} ; Min Idle CPU Usage: {df['idl_cpu_usage'].min():,}\")\n",
    "print(f\"Max Wait CPU Usage: {df['wai_cpu_usage'].max():,} ; Min Wait CPU Usage: {df['wai_cpu_usage'].min():,}\")\n",
    "print()\n",
    "print (f\"Max GPU Temperature: {df_gpu['temperature_gpu'].max():,} ; Min GPU Temperature: {df_gpu['temperature_gpu'].min():,}\")\n",
    "print (f\"Max GPU Utilization (%): {df_gpu['utilization_gpu'].max():,} ; Min GPU Utilization: {df_gpu['utilization_gpu'].min():,}\")\n",
    "print (f\"Max GPU Utilization Memory (MiB): {df_gpu['utilization_memory'].max():,} ; Min GPU Utilization Memory (MiB): {df_gpu['utilization_memory'].min():,}\")\n",
    "print (f\"Max GPU Memory Total (MiB): {df_gpu['memory_total'].max():,} ; Min GPU Memory Total (MiB): {df_gpu['memory_total'].min():,}\")\n",
    "print (f\"Max GPU Memory Free (MiB): {df_gpu['memory_free'].max():,} ; Min GPU Memory Free (MiB): {df_gpu['memory_free'].min():,}\")\n",
    "print (f\"Max GPU Memory Used (MiB): {df_gpu['memory_used'].max():,} ; Min GPU Memory Used (MiB): {df_gpu['memory_used'].min():,}\")"
   ]
  },
  {
   "cell_type": "code",
   "execution_count": 11,
   "metadata": {},
   "outputs": [],
   "source": [
    "def plotAction(df_param: pd.DataFrame, X, Y):\n",
    "\n",
    "    # plots action with time\n",
    "    plt.figure()\n",
    "    for x in X:\n",
    "        for y in Y:\n",
    "            plt.plot(df_param[x], df_param[y], label=y, marker = \"+\")\n",
    "    plt.xlabel(X[0])\n",
    "    plt.ylabel(Y[0])\n",
    "    plt.title(f\"{X} per {Y}\")\n",
    "    plt.legend()\n",
    "    plt.show()"
   ]
  },
  {
   "cell_type": "code",
   "execution_count": 12,
   "metadata": {},
   "outputs": [
    {
     "name": "stderr",
     "output_type": "stream",
     "text": [
      "QStandardPaths: wrong permissions on runtime directory /run/user/0/, 0755 instead of 0700\n"
     ]
    }
   ],
   "source": [
    "plotAction(df, ['system_time'], ['read_io_total_nops', 'write_io_total_nops'])"
   ]
  },
  {
   "cell_type": "code",
   "execution_count": 13,
   "metadata": {},
   "outputs": [],
   "source": [
    "# plots Disk with time\n",
    "plotAction(df, ['system_time'], ['read_dsk_total_bytes', 'writ_dsk_total_bytes'])"
   ]
  },
  {
   "cell_type": "code",
   "execution_count": 14,
   "metadata": {},
   "outputs": [],
   "source": [
    "# plots Memory with time\n",
    "plt.figure()\n",
    "plt.plot(df['system_time'], df['used_memory'], label='Used Memory')\n",
    "plt.plot(df['system_time'], df['free_memory'], label='Free Memory')\n",
    "plt.plot(df['system_time'], df['buff_memory'], label='Buffer Memory')\n",
    "plt.plot(df['system_time'], df['cach_memory'], label='Cache Memory')\n",
    "plt.xlabel('Time ')\n",
    "plt.ylabel('Memory (bytes)')\n",
    "plt.title('Memory with time')\n",
    "plt.legend()\n",
    "plt.show()"
   ]
  },
  {
   "cell_type": "code",
   "execution_count": 15,
   "metadata": {},
   "outputs": [],
   "source": [
    "# plots Network with time\n",
    "plt.figure()\n",
    "plt.plot(df['system_time'], df['recv_net_total'], label='Received Net')\n",
    "plt.plot(df['system_time'], df['send_net_total'], label='Send Net')\n",
    "plt.xlabel('Time ')\n",
    "plt.ylabel('Network (bytes)')\n",
    "plt.title('Network with time')\n",
    "plt.legend()\n",
    "plt.show()"
   ]
  },
  {
   "cell_type": "code",
   "execution_count": 16,
   "metadata": {},
   "outputs": [],
   "source": [
    "# plots CPU with time\n",
    "plt.figure()\n",
    "plt.plot(df['system_time'], df['usr_cpu_usage'], label='usr CPU usage')\n",
    "plt.plot(df['system_time'], df['sys_cpu_usage'], label='sys CPU usage')\n",
    "plt.plot(df['system_time'], df['idl_cpu_usage'], label='idl CPU usage')\n",
    "plt.plot(df['system_time'], df['wai_cpu_usage'], label='wai CPU usage')\n",
    "plt.xlabel('Time ')\n",
    "plt.ylabel('CPU (%)')\n",
    "plt.title('CPU with time')\n",
    "plt.legend()\n",
    "plt.show()"
   ]
  },
  {
   "cell_type": "code",
   "execution_count": 17,
   "metadata": {},
   "outputs": [],
   "source": [
    "# plots gpu temperature with time\n",
    "plt.figure()\n",
    "plt.plot(df_gpu['timestamp'], df_gpu['temperature_gpu'], label='Temperature')\n",
    "plt.xlabel('Time ')\n",
    "plt.ylabel('Temperature (°C)')\n",
    "plt.title('GPU Temperature with time')\n",
    "plt.legend()\n",
    "plt.show()"
   ]
  },
  {
   "cell_type": "code",
   "execution_count": 18,
   "metadata": {},
   "outputs": [],
   "source": [
    "# plots gpu utilization with time\n",
    "plt.figure()\n",
    "plt.plot(df_gpu['timestamp'], df_gpu['utilization_gpu'], label='Utilization')\n",
    "plt.xlabel('Time ')\n",
    "plt.ylabel('Utilization (%)')\n",
    "plt.title('GPU Utilization with time')\n",
    "plt.legend()\n",
    "plt.show()"
   ]
  },
  {
   "cell_type": "code",
   "execution_count": 19,
   "metadata": {},
   "outputs": [],
   "source": [
    "# plots gpu memory with time\n",
    "plt.figure()\n",
    "plt.plot(df_gpu['timestamp'], df_gpu['memory_total'], label='Total Memory')\n",
    "plt.plot(df_gpu['timestamp'], df_gpu['memory_free'], label='Free Memory')\n",
    "plt.plot(df_gpu['timestamp'], df_gpu['memory_used'], label='Used Memory')\n",
    "plt.xlabel('Time ')\n",
    "plt.ylabel('Memory (MiB)')\n",
    "plt.title('GPU Memory with time')\n",
    "plt.legend()\n",
    "plt.show()"
   ]
  },
  {
   "cell_type": "code",
   "execution_count": null,
   "metadata": {},
   "outputs": [],
   "source": []
  }
 ],
 "metadata": {
  "kernelspec": {
   "display_name": "Python 3",
   "language": "python",
   "name": "python3"
  },
  "language_info": {
   "codemirror_mode": {
    "name": "ipython",
    "version": 3
   },
   "file_extension": ".py",
   "mimetype": "text/x-python",
   "name": "python",
   "nbconvert_exporter": "python",
   "pygments_lexer": "ipython3",
   "version": "3.11.0"
  }
 },
 "nbformat": 4,
 "nbformat_minor": 4
}
