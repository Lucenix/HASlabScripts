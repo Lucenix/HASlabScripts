{
 "cells": [
  {
   "cell_type": "code",
   "execution_count": null,
   "metadata": {},
   "outputs": [],
   "source": [
    "import re\n",
    "import os\n",
    "import numpy as np\n",
    "import pandas as pd\n",
    "from pandas._libs.tslibs import dtypes, timestamps\n",
    "import subprocess\n",
    "from functools import reduce\n",
    "import matplotlib\n",
    "matplotlib.use('Qt5Agg')\n",
    "import matplotlib.pyplot as plt\n",
    "import pickle as pkl\n",
    "# Using matplotlib backend: QtAgg"
   ]
  },
  {
   "cell_type": "code",
   "execution_count": null,
   "metadata": {},
   "outputs": [],
   "source": [
    "def printRow(row):\n",
    "    print(\"TIME:\", row['system_time'])\n",
    "    print(row['action'])\n",
    "    print(\"==============\")\n",
    "\n",
    "system = \"aurora\"\n",
    "if system == \"aurora\":\n",
    "    stat_dir = \"/home/gsd/andrelucena/statistics\"\n",
    "elif system == \"slurm\":\n",
    "    stat_dir = \"/projects/a97485/statistics\"\n",
    "\n",
    "model = \"resnet50\"\n",
    "n_nodes = \"4\"\n",
    "n_epochs = \"2\"\n",
    "batch_size = \"64\"\n",
    "save_every = \"1\"\n",
    "log = \"true\"\n",
    "\n",
    "stat_test = \"eBPFs_subset_t2\"\n",
    "if system == \"aurora\":\n",
    "    test_name = model + \"_\" + n_epochs + \"_\" + batch_size + \"_\" + save_every + \"_\" + log\n",
    "elif system == \"slurm\":\n",
    "    test_name = model + \"_\" + n_nodes + \"_\" + n_epochs + \"_\" + batch_size + \"_\" + save_every + \"_\" + log\n",
    "\n",
    "full_test_path = stat_dir + \"/\" + stat_test + \"/\" + test_name\n",
    "if system == \"slurm\":\n",
    "    full_test_path += \"/aurora03\"\n",
    "\n",
    "p = subprocess.Popen([\"scp\", f\"{system}:{full_test_path}/biopattern.bt\", \"./tmp/file\"])\n",
    "sts = os.waitpid(p.pid, 0)\n",
    "\n",
    "data = None\n",
    "\n",
    "with open(\"./tmp/file\", \"r\") as fd:\n",
    "    data = re.sub(r\"\\^C\", \"\", fd.read())\n",
    "with open(\"./tmp/file\", \"w\") as fd:\n",
    "    fd.write(data)\n",
    "\n",
    "df = pd.read_csv(\"./tmp/file\", skiprows=[0,1,2,3,4,5,6], index_col=False, delimiter=\" +\")\n",
    "\n",
    "df['TIME'] = pd.to_datetime(df['TIME'])\n",
    "\n",
    "os.remove(\"./tmp/file\")\n",
    "\n",
    "df.head()"
   ]
  },
  {
   "cell_type": "code",
   "execution_count": null,
   "metadata": {},
   "outputs": [],
   "source": [
    "def plotAction(df_param: pd.DataFrame, x, y, title):\n",
    "\n",
    "    dt = df_param\n",
    "\n",
    "    # plots action with time\n",
    "    fig = plt.figure()\n",
    "    plt.plot(dt[x], dt[y], markersize = 5.0, marker = \"+\")\n",
    "    plt.xlabel(x)\n",
    "    plt.ylabel(y)\n",
    "    plt.title(title)\n",
    "    # plt.legend()\n",
    "\n",
    "    return fig"
   ]
  },
  {
   "cell_type": "code",
   "execution_count": null,
   "metadata": {},
   "outputs": [],
   "source": [
    "fig = plotAction(df, 'TIME', '%RND', '')\n",
    "\n",
    "with open(\"fig.pkl\", \"bw+\") as fd:\n",
    "    pkl.dump(fig, fd)\n"
   ]
  },
  {
   "cell_type": "code",
   "execution_count": null,
   "metadata": {},
   "outputs": [],
   "source": [
    "with open(\"fig.pkl\", \"br\") as fd:\n",
    "    fig = pkl.load(fd)\n",
    "\n",
    "fig.show()"
   ]
  },
  {
   "cell_type": "code",
   "execution_count": null,
   "metadata": {},
   "outputs": [],
   "source": [
    "plotAction(df, 'TIME', '%SEQ', '')"
   ]
  },
  {
   "cell_type": "code",
   "execution_count": null,
   "metadata": {},
   "outputs": [],
   "source": [
    "plotAction(df, 'TIME', 'COUNT', '')"
   ]
  },
  {
   "cell_type": "code",
   "execution_count": null,
   "metadata": {},
   "outputs": [],
   "source": [
    "plotAction(df, 'TIME', 'KBYTES', '')"
   ]
  }
 ],
 "metadata": {
  "kernelspec": {
   "display_name": "Python 3 (ipykernel)",
   "language": "python",
   "name": "python3"
  }
 },
 "nbformat": 4,
 "nbformat_minor": 4
}
