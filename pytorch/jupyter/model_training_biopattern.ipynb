{
  "cells": [
    {
      "cell_type": "code",
      "metadata": {},
      "source": [
        "import re\n",
        "import os\n",
        "import numpy as np\n",
        "import pandas as pd\n",
        "from pandas._libs.tslibs import dtypes, timestamps\n",
        "import subprocess\n",
        "from functools import reduce\n",
        "import matplotlib\n",
        "matplotlib.use('Qt5Agg')\n",
        "import matplotlib.pyplot as plt\n",
        "# Using matplotlib backend: QtAgg"
      ],
      "execution_count": null,
      "outputs": []
    },
    {
      "cell_type": "code",
      "metadata": {},
      "source": [
        "def printRow(row):\n",
        "    print(\"TIME:\", row['system_time'])\n",
        "    print(row['action'])\n",
        "    print(\"==============\")\n",
        "\n",
        "system = \"aurora\"\n",
        "if system == \"aurora\":\n",
        "    stat_dir = \"/home/gsd/andrelucena/statistics\"\n",
        "elif system == \"slurm\":\n",
        "    stat_dir = \"/projects/a97485/statistics\"\n",
        "\n",
        "model = \"resnet50\"\n",
        "n_nodes = \"4\"\n",
        "n_epochs = \"2\"\n",
        "batch_size = \"64\"\n",
        "save_every = \"1\"\n",
        "log = \"true\"\n",
        "\n",
        "stat_test = \"eBPFs_subset_t2\"\n",
        "if system == \"aurora\":\n",
        "    test_name = model + \"_\" + n_epochs + \"_\" + batch_size + \"_\" + save_every + \"_\" + log\n",
        "elif system == \"slurm\":\n",
        "    test_name = model + \"_\" + n_nodes + \"_\" + n_epochs + \"_\" + batch_size + \"_\" + save_every + \"_\" + log\n",
        "\n",
        "full_test_path = stat_dir + \"/\" + stat_test + \"/\" + test_name\n",
        "if system == \"slurm\":\n",
        "    full_test_path += \"/aurora03\"\n",
        "\n",
        "p = subprocess.Popen([\"scp\", f\"{system}:{full_test_path}/biopattern.bt\", \"./tmp/file\"])\n",
        "sts = os.waitpid(p.pid, 0)\n",
        "\n",
        "data = None\n",
        "\n",
        "with open(\"./tmp/file\", \"r\") as fd:\n",
        "    data = re.sub(r\"\\^C\", \"\", fd.read())\n",
        "with open(\"./tmp/file\", \"w\") as fd:\n",
        "    fd.write(data)\n",
        "\n",
        "df = pd.read_csv(\"./tmp/file\", skiprows=[0,1,2,3,4,5,6], index_col=False, delimiter=\" +\")\n",
        "\n",
        "df['TIME'] = pd.to_datetime(df['TIME'])\n",
        "\n",
        "os.remove(\"./tmp/file\")\n",
        "\n",
        "df.head()"
      ],
      "execution_count": null,
      "outputs": []
    },
    {
      "cell_type": "code",
      "metadata": {},
      "source": [
        "def plotAction(df_param: pd.DataFrame, x, y, title):\n",
        "\n",
        "    dt = df_param\n",
        "\n",
        "    # plots action with time\n",
        "    plt.figure()\n",
        "    plt.plot(dt[x], dt[y], markersize = 5.0, marker = \"+\")\n",
        "    plt.xlabel(x)\n",
        "    plt.ylabel(y)\n",
        "    plt.title(title)\n",
        "    # plt.legend()\n",
        "    plt.show()"
      ],
      "execution_count": null,
      "outputs": []
    },
    {
      "cell_type": "code",
      "metadata": {},
      "source": [
        "plotAction(df, 'TIME', '%RND', '')"
      ],
      "execution_count": null,
      "outputs": []
    },
    {
      "cell_type": "code",
      "metadata": {},
      "source": [
        "plotAction(df, 'TIME', '%SEQ', '')"
      ],
      "execution_count": null,
      "outputs": []
    },
    {
      "cell_type": "code",
      "metadata": {},
      "source": [
        "plotAction(df, 'TIME', 'COUNT', '')"
      ],
      "execution_count": null,
      "outputs": []
    },
    {
      "cell_type": "code",
      "metadata": {},
      "source": [
        "plotAction(df, 'TIME', 'KBYTES', '')"
      ],
      "execution_count": null,
      "outputs": []
    }
  ],
  "metadata": {
    "kernelspec": {
      "name": "python3",
      "language": "python",
      "display_name": "Python 3 (ipykernel)"
    }
  },
  "nbformat": 4,
  "nbformat_minor": 4
}