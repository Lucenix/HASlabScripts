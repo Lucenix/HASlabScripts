{
 "cells": [
  {
   "cell_type": "code",
   "execution_count": 1,
   "metadata": {},
   "outputs": [],
   "source": [
    "import re\n",
    "import os\n",
    "import numpy as np\n",
    "import pandas as pd\n",
    "from pandas._libs.tslibs import dtypes, timestamps\n",
    "import subprocess\n",
    "from functools import reduce\n",
    "import matplotlib\n",
    "matplotlib.use('Qt5Agg')\n",
    "import matplotlib.pyplot as plt\n",
    "# Using matplotlib backend: QtAgg"
   ]
  },
  {
   "cell_type": "code",
   "execution_count": 2,
   "metadata": {},
   "outputs": [
    {
     "name": "stdout",
     "output_type": "stream",
     "text": [
      "                 system_time                                    action  \\\n",
      "0 2024-11-05 01:27:19.453645                            Training begin   \n",
      "1 2024-11-05 01:27:19.454282                          Training epoch 1   \n",
      "3 2024-11-05 01:27:20.064135                Start Training Iteration 0   \n",
      "4 2024-11-05 01:27:20.064876   Moving data to the same device as model   \n",
      "5 2024-11-05 01:27:20.065609                          Computing output   \n",
      "\n",
      "                duration  \n",
      "0 0 days 00:00:00.000637  \n",
      "1 0 days 00:00:00.609853  \n",
      "3 0 days 00:00:00.000741  \n",
      "4 0 days 00:00:00.000733  \n",
      "5 0 days 00:00:00.904331  \n"
     ]
    }
   ],
   "source": [
    "def printRow(row):\n",
    "    print(\"TIME:\", row['system_time'])\n",
    "    print(row['action'])\n",
    "    print(\"==============\")\n",
    "\n",
    "system = \"aurora\"\n",
    "if system == \"aurora\":\n",
    "    stat_dir = \"/home/gsd/andrelucena/statistics\"\n",
    "elif system == \"slurm\":\n",
    "    stat_dir = \"/projects/a97485/statistics\"\n",
    "\n",
    "model = \"resnet50\"\n",
    "n_nodes = \"4\"\n",
    "n_epochs = \"2\"\n",
    "batch_size = \"64\"\n",
    "save_every = \"1\"\n",
    "log = \"true\"\n",
    "\n",
    "stat_test = \"eBPFs_subset_t2\"\n",
    "if system == \"aurora\":\n",
    "    test_name = model + \"_\" + n_epochs + \"_\" + batch_size + \"_\" + save_every + \"_\" + log\n",
    "elif system == \"slurm\":\n",
    "    test_name = model + \"_\" + n_nodes + \"_\" + n_epochs + \"_\" + batch_size + \"_\" + save_every + \"_\" + log\n",
    "\n",
    "full_test_path = stat_dir + \"/\" + stat_test + \"/\" + test_name\n",
    "if system == \"slurm\":\n",
    "    full_test_path += \"/aurora03\"\n",
    "\n",
    "p = subprocess.Popen([\"scp\", f\"{system}:{full_test_path}/icstat.bt\", \"./tmp/file\"])\n",
    "sts = os.waitpid(p.pid, 0)\n",
    "\n",
    "data = None\n",
    "\n",
    "with open(\"./tmp/file\", \"r\") as fd:\n",
    "    data = re.sub(r\"\\^C\", \"\", fd.read())\n",
    "    data = re.sub(r\"%\", \"\", data)\n",
    "with open(\"./tmp/file\", \"w\") as fd:\n",
    "    fd.write(data)\n",
    "\n",
    "\n",
    "df = pd.read_csv(\"./tmp/file\", index_col=False, skiprows=[0,1,2,3])[:-2]\n",
    "df['Timestamp'] = pd.to_datetime(df['Timestamp'], format='%H:%M:%S.%f')\n",
    "\n",
    "os.remove(\"./tmp/file\")\n",
    "\n",
    "print(df.head)"
   ]
  },
  {
   "cell_type": "code",
   "execution_count": 7,
   "metadata": {},
   "outputs": [],
   "source": [
    "def plotAction(df_param: pd.DataFrame, x, y, title):\n",
    "\n",
    "    dt = df_param\n",
    "\n",
    "    # plots action with time\n",
    "    plt.figure()\n",
    "    plt.plot(dt[x], dt[y], markersize = 5.0, marker = \"+\")\n",
    "    plt.xlabel(x)\n",
    "    plt.ylabel(y)\n",
    "    plt.title(title)\n",
    "    # plt.legend()\n",
    "    plt.show()"
   ]
  },
  {
   "cell_type": "code",
   "execution_count": 8,
   "metadata": {},
   "outputs": [
    {
     "name": "stderr",
     "output_type": "stream",
     "text": [
      "QStandardPaths: wrong permissions on runtime directory /run/user/0/, 0755 instead of 0700\n"
     ]
    }
   ],
   "source": [
    "plotAction(df, 'Timestamp', 'REFS', \"Refs per time\")"
   ]
  },
  {
   "cell_type": "code",
   "execution_count": null,
   "metadata": {},
   "outputs": [],
   "source": [
    "plotAction(df, 'Timestamp', 'MISSES', \"Misses per time\")"
   ]
  },
  {
   "cell_type": "code",
   "execution_count": null,
   "metadata": {},
   "outputs": [],
   "source": [
    "plotAction(df, 'Timestamp', 'HIT', \"Hits per time\")"
   ]
  }
 ],
 "metadata": {
  "kernelspec": {
   "display_name": "Python 3",
   "language": "python",
   "name": "python3"
  },
  "language_info": {
   "codemirror_mode": {
    "name": "ipython",
    "version": 3
   },
   "file_extension": ".py",
   "mimetype": "text/x-python",
   "name": "python",
   "nbconvert_exporter": "python",
   "pygments_lexer": "ipython3",
   "version": "3.10.12"
  }
 },
 "nbformat": 4,
 "nbformat_minor": 4
}
