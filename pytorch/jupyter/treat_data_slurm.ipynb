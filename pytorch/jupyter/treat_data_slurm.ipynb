{
  "cells": [
    {
      "cell_type": "code",
      "metadata": {},
      "source": [
        "import matplotlib.pyplot as plt\n",
        "import numpy as np\n",
        "import pandas as pd\n",
        "from pandas._libs.tslibs import dtypes, timestamps"
      ],
      "execution_count": null,
      "outputs": []
    },
    {
      "cell_type": "code",
      "metadata": {},
      "source": [
        "nodes = {'03', '04'}\n",
        "# models = {'resnet50', 'alexnet'}\n",
        "model = 'resnet50'"
      ],
      "execution_count": null,
      "outputs": []
    },
    {
      "cell_type": "code",
      "metadata": {},
      "source": [
        "df_cpu = dict()\n",
        "df_gpu = dict()\n",
        "\n",
        "for node in nodes:\n",
        "    node_name = \"aurora\" + node\n",
        "    df_cpu[node] = pd.read_csv(f'./{model}_2_2_64_1_{node_name}.csv', skiprows=[0,1,2,3,4])\n",
        "    df_gpu[node] = pd.read_csv(f'./{model}_2_2_64_1_{node_name}_gpu.csv')\n",
        "\n",
        "# df_gpu.drop(columns=['name', 'pci.bus_id'], inplace=True)\n",
        "# rename columns\n",
        "for node in nodes:\n",
        "    df_cpu[node].rename(columns={\n",
        "        'read':'read_io_total',\n",
        "        'writ':'write_io_total',\n",
        "        'time':'system_time',\n",
        "        'usr':'usr_cpu_usage',\n",
        "        'sys':'sys_cpu_usage',\n",
        "        'idl':'idl_cpu_usage',\n",
        "        'wai':'wai_cpu_usage',\n",
        "        'stl':'stl_cpu_usage',\n",
        "        'read.1':'read_dsk_total',\n",
        "        'writ.1':'writ_dsk_total',\n",
        "        'used':'used_memory',\n",
        "        'free':'free_memory',\n",
        "        'buff':'buff_memory',\n",
        "        'cach':'cach_memory',\n",
        "        'recv':'recv_net_total',\n",
        "        'send':'send_net_total',\n",
        "        'in':'in_paging',\n",
        "        'out':'out_paging'}, inplace=True)\n",
        "\n",
        "    df_gpu[node].rename(columns={\n",
        "    ' temperature.gpu':'temperature_gpu',\n",
        "    ' utilization.gpu [%]':'utilization_gpu',\n",
        "    ' utilization.memory [%]':'utilization_memory',\n",
        "    ' memory.total [MiB]':'memory_total',\n",
        "    ' memory.free [MiB]':'memory_free',\n",
        "    ' memory.used [MiB]':'memory_used'}, inplace=True)"
      ],
      "execution_count": null,
      "outputs": []
    },
    {
      "cell_type": "code",
      "metadata": {},
      "source": [
        "# print(df.head())\n",
        "# print(df_gpu.head())"
      ],
      "execution_count": null,
      "outputs": []
    },
    {
      "cell_type": "code",
      "metadata": {},
      "source": [
        "# Totals\n",
        "\n",
        "for node in nodes:\n",
        "    print()\n",
        "    print(f'======={node}=======')\n",
        "    print(f\"Read IO Total: {df_cpu[node]['read_io_total'].sum():,}\")\n",
        "    print(f\"Write IO Total: {df_cpu[node]['write_io_total'].sum():,}\")\n",
        "    print(f\"Read Disk Total: {df_cpu[node]['read_dsk_total'].sum():,}\")\n",
        "    print(f\"Write Disk Total: {df_cpu[node]['writ_dsk_total'].sum():,}\")\n",
        "    print(f\"Used Memory: {df_cpu[node]['used_memory'].sum():,}\")\n",
        "    print(f\"Free Memory: {df_cpu[node]['free_memory'].sum():,}\")\n",
        "    print(f\"Buffer Memory: {df_cpu[node]['buff_memory'].sum():,}\")\n",
        "    print(f\"Cache Memory: {df_cpu[node]['cach_memory'].sum():,}\")\n",
        "    print(f\"Receive Net Total: {df_cpu[node]['recv_net_total'].sum():,}\")\n",
        "    print(f\"Send Net Total: {df_cpu[node]['send_net_total'].sum():,}\")\n",
        "    print()\n",
        "    print (f\"Total GPU Utilization Memory (%): {df_gpu[node]['utilization_memory'].sum():,}\")\n",
        "    print (f\"Total GPU Memory Total (MiB): {df_gpu[node]['memory_total'].sum():,}\")\n",
        "    print (f\"Total GPU Memory Free (MiB): {df_gpu[node]['memory_free'].sum():,}\")\n",
        "    print (f\"Total GPU Memory Used (MiB): {df_gpu[node]['memory_used'].sum():,}\")"
      ],
      "execution_count": null,
      "outputs": []
    },
    {
      "cell_type": "code",
      "metadata": {},
      "source": [
        "# Means\n",
        "for node in nodes:\n",
        "    print()\n",
        "    print(f'======={node}=======')\n",
        "    print(f\"Read IO Average: {df_cpu[node]['read_io_total'].mean():,}\")\n",
        "    print(f\"Write IO Average: {df_cpu[node]['write_io_total'].mean():,}\")\n",
        "    print(f\"Read Disk Average: {df_cpu[node]['read_dsk_total'].mean():,}\")\n",
        "    print(f\"Write Disk Average: {df_cpu[node]['writ_dsk_total'].mean():,}\")\n",
        "    print(f\"Used Memory: {df_cpu[node]['used_memory'].mean():,}\")\n",
        "    print(f\"Free Memory: {df_cpu[node]['free_memory'].mean():,}\")\n",
        "    print(f\"Buffer Memory: {df_cpu[node]['buff_memory'].mean():,}\")\n",
        "    print(f\"Cache Memory: {df_cpu[node]['cach_memory'].mean():,}\")\n",
        "    print(f\"Receive Net Average: {df_cpu[node]['recv_net_total'].mean():,}\")\n",
        "    print(f\"Send Net Average: {df_cpu[node]['send_net_total'].mean():,}\")\n",
        "    print()\n",
        "    print (f\"Average GPU Utilization Memory (%): {df_gpu[node]['utilization_memory'].mean():,}\")\n",
        "    print (f\"Average GPU Memory Total (MiB): {df_gpu[node]['memory_total'].mean():,}\")\n",
        "    print (f\"Average GPU Memory Free (MiB): {df_gpu[node]['memory_free'].mean():,}\")\n",
        "    print (f\"Average GPU Memory Used (MiB): {df_gpu[node]['memory_used'].mean():,}\")"
      ],
      "execution_count": null,
      "outputs": []
    },
    {
      "cell_type": "code",
      "metadata": {},
      "source": [
        "# Max and Min values\n",
        "for node in nodes:\n",
        "    print()\n",
        "    print(f'======={node}=======')\n",
        "    print(f\"Max Read IO: {df_cpu[node]['read_io_total'].max():,} ; Min Read IO: {df_cpu[node]['read_io_total'].min()}\")\n",
        "    print(f\"Max Write IO: {df_cpu[node]['write_io_total'].max():,} ; Min Write IO: {df_cpu[node]['write_io_total'].min()}\")\n",
        "    print(f\"Max Read Disk: {df_cpu[node]['read_dsk_total'].max():,} ; Min Read Disk: {df_cpu[node]['read_dsk_total'].min()}\")\n",
        "    print(f\"Max Write Disk: {df_cpu[node]['writ_dsk_total'].max():,} ; Min Write Disk: {df_cpu[node]['writ_dsk_total'].min()}\")\n",
        "    print(f\"Max Used Memory: {df_cpu[node]['used_memory'].max():,} ; Min Used Memory: {df_cpu[node]['used_memory'].min()}\")\n",
        "    print(f\"Max Free Memory: {df_cpu[node]['free_memory'].max():,} ; Min Free Memory: {df_cpu[node]['free_memory'].min()}\")\n",
        "    print(f\"Max Buffer Memory: {df_cpu[node]['buff_memory'].max():,} ; Min Buffer Memory: {df_cpu[node]['buff_memory'].min()}\")\n",
        "    print(f\"Max Cache Memory: {df_cpu[node]['cach_memory'].max():,} ; Min Cache Memory: {df_cpu[node]['cach_memory'].min()}\")\n",
        "    print(f\"Max Receive Net: {df_cpu[node]['recv_net_total'].max():,} ; Min Receive Net: {df_cpu[node]['recv_net_total'].min()}\")\n",
        "    print(f\"Max Send Net: {df_cpu[node]['send_net_total'].max():,} ; Min Send Net: {df_cpu[node]['send_net_total'].min()}\")\n",
        "    print(f\"Max User CPU Usage: {df_cpu[node]['usr_cpu_usage'].max():,} ; Min User CPU Usage: {df_cpu[node]['usr_cpu_usage'].min()}\")\n",
        "    print(f\"Max System CPU Usage: {df_cpu[node]['sys_cpu_usage'].max():,} ; Min System CPU Usage: {df_cpu[node]['sys_cpu_usage'].min()}\")\n",
        "    print(f\"Max Idle CPU Usage: {df_cpu[node]['idl_cpu_usage'].max():,} ; Min Idle CPU Usage: {df_cpu[node]['idl_cpu_usage'].min()}\")\n",
        "    print(f\"Max Wait CPU Usage: {df_cpu[node]['wai_cpu_usage'].max():,} ; Min Wait CPU Usage: {df_cpu[node]['wai_cpu_usage'].min()}\")\n",
        "    print()\n",
        "    print (f\"Max GPU Temperature: {df_gpu[node]['temperature_gpu'].max():,} ; Min GPU Temperature: {df_gpu[node]['temperature_gpu'].min()}\")\n",
        "    print (f\"Max GPU Utilization (%): {df_gpu[node]['utilization_gpu'].max():,} ; Min GPU Utilization: {df_gpu[node]['utilization_gpu'].min()}\")\n",
        "    print (f\"Max GPU Utilization Memory (MiB): {df_gpu[node]['utilization_memory'].max():,} ; Min GPU Utilization Memory (MiB): {df_gpu[node]['utilization_memory'].min()}\")\n",
        "    print (f\"Max GPU Memory Total (MiB): {df_gpu[node]['memory_total'].max():,} ; Min GPU Memory Total (MiB): {df_gpu[node]['memory_total'].min()}\")\n",
        "    print (f\"Max GPU Memory Free (MiB): {df_gpu[node]['memory_free'].max():,} ; Min GPU Memory Free (MiB): {df_gpu[node]['memory_free'].min()}\")\n",
        "    print (f\"Max GPU Memory Used (MiB): {df_gpu[node]['memory_used'].max():,} ; Min GPU Memory Used (MiB): {df_gpu[node]['memory_used'].min()}\")"
      ],
      "execution_count": null,
      "outputs": []
    }
  ],
  "metadata": {
    "kernelspec": {
      "display_name": "Python 3",
      "language": "python",
      "name": "python3"
    }
  },
  "nbformat": 4,
  "nbformat_minor": 4
}